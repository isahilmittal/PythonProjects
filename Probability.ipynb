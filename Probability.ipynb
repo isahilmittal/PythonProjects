{
 "cells": [
  {
   "cell_type": "code",
   "execution_count": 34,
   "id": "04a74692-bf5c-49f9-a5e6-f6d477ffd93d",
   "metadata": {},
   "outputs": [],
   "source": [
    "import random\n",
    "\n",
    "def coin_toss(toss = 10000):\n",
    "    heads = tails = 0\n",
    "    for _ in range(toss):\n",
    "        t = random.choice([\"H\", \"T\"])\n",
    "        if t == \"H\":\n",
    "            heads +=1\n",
    "        else:\n",
    "            tails +=1\n",
    "    print(\"Coin Toss Simulation ({} trials)\".format(toss))\n",
    "    print(\"Heads:\", heads, \"| Probability:\", heads / toss)\n",
    "    print(\"Tails:\", tails, \"| Probability:\", tails / toss)\n",
    "\n",
    "def dice(rolls= 10000):\n",
    "    sum7 = 0\n",
    "    for _ in range(rolls):\n",
    "        dice1 = random.randint(1,6)\n",
    "        dice2 = random. randint(1,6)\n",
    "        total = dice1 + dice2\n",
    "        if total == 7:\n",
    "            sum7 +=1\n",
    "    probability = sum7 / rolls\n",
    "    print(f\"Number of times sum = 7: {sum7}\")\n",
    "    print(f\"Probability of sum 7: {probability:.2f}\")\n",
    "            "
   ]
  },
  {
   "cell_type": "code",
   "execution_count": 35,
   "id": "da55def1-55b1-4ce9-874c-afef38c58619",
   "metadata": {},
   "outputs": [],
   "source": [
    "def fair_die(rolls = 10):\n",
    "    count = 0\n",
    "    for _ in range(rolls):\n",
    "        if random.randint(1,6) == 6:\n",
    "            count +=1\n",
    "    probability = count / rolls\n",
    "    print(f\"Number of times getting 6: {count}\")\n",
    "    print(f\"Probability of getting 6: {probability:.2f}\")"
   ]
  },
  {
   "cell_type": "markdown",
   "id": "68b16231-8a16-4c04-ae90-790a17bec0c9",
   "metadata": {},
   "source": []
  },
  {
   "cell_type": "code",
   "execution_count": 1,
   "id": "3d6ae684-3d73-4280-bfc1-7b3da7754c62",
   "metadata": {},
   "outputs": [
    {
     "name": "stdout",
     "output_type": "stream",
     "text": [
      "Estimated P(Red | Previous = Blue): 0.2288\n",
      "Using Bayes' Theorem:               0.2285\n"
     ]
    }
   ],
   "source": [
    "import random\n",
    "from collections import Counter\n",
    "\n",
    "# Initialize ball distribution\n",
    "balls = ['R'] * 5 + ['G'] * 7 + ['B'] * 8\n",
    "\n",
    "# Simulate 1000 draws\n",
    "draws = [random.choice(balls) for _ in range(1000)]\n",
    "\n",
    "# Count how many times Red follows Blue\n",
    "count_prev_blue = 0\n",
    "count_red_given_prev_blue = 0\n",
    "\n",
    "# Track overall frequency\n",
    "total_counts = Counter(draws)\n",
    "transitions = []\n",
    "\n",
    "for i in range(1, len(draws)):\n",
    "    prev = draws[i - 1]\n",
    "    curr = draws[i]\n",
    "    transitions.append((prev, curr))\n",
    "    if prev == 'B':\n",
    "        count_prev_blue += 1\n",
    "        if curr == 'R':\n",
    "            count_red_given_prev_blue += 1\n",
    "\n",
    "# Estimate P(R | B_prev)\n",
    "if count_prev_blue > 0:\n",
    "    prob_red_given_prev_blue = count_red_given_prev_blue / count_prev_blue\n",
    "else:\n",
    "    prob_red_given_prev_blue = 0\n",
    "\n",
    "# Now Bayes' components\n",
    "# P(R) from overall\n",
    "P_R = total_counts['R'] / len(draws)\n",
    "\n",
    "# P(B_prev) from previous draws\n",
    "B_prev_count = sum(1 for t in transitions if t[0] == 'B')\n",
    "P_B_prev = B_prev_count / len(transitions)\n",
    "\n",
    "# P(B_prev | R) - count how many times Red was drawn and previous was Blue\n",
    "B_prev_given_R_count = sum(1 for t in transitions if t[1] == 'R' and t[0] == 'B')\n",
    "P_B_prev_given_R = B_prev_given_R_count / total_counts['R'] if total_counts['R'] else 0\n",
    "\n",
    "# Bayes Theorem\n",
    "bayes_estimate = (P_B_prev_given_R * P_R) / P_B_prev if P_B_prev else 0\n",
    "\n",
    "# Output results\n",
    "print(f\"Estimated P(Red | Previous = Blue): {prob_red_given_prev_blue:.4f}\")\n",
    "print(f\"Using Bayes' Theorem:               {bayes_estimate:.4f}\")\n"
   ]
  },
  {
   "cell_type": "code",
   "execution_count": 1,
   "id": "7e2b3d88-2bf9-496b-a42a-d67aec66d45a",
   "metadata": {},
   "outputs": [
    {
     "name": "stdout",
     "output_type": "stream",
     "text": [
      "Empirical Mean: 2.153\n",
      "Empirical Variance: 0.623591\n",
      "Empirical Standard Deviation: 0.7896777823897542\n"
     ]
    }
   ],
   "source": [
    "import numpy as np\n",
    "\n",
    "# a. Define the discrete distribution\n",
    "values = [1, 2, 3]\n",
    "probabilities = [0.25, 0.35, 0.4]\n",
    "\n",
    "# b. Generate the sample\n",
    "sample = np.random.choice(values, size=1000, p=probabilities)\n",
    "\n",
    "# Calculate statistics\n",
    "mean = np.mean(sample)\n",
    "variance = np.var(sample)\n",
    "std_dev = np.std(sample)\n",
    "\n",
    "# Output results\n",
    "print(\"Empirical Mean:\", mean)\n",
    "print(\"Empirical Variance:\", variance)\n",
    "print(\"Empirical Standard Deviation:\", std_dev)\n"
   ]
  },
  {
   "cell_type": "code",
   "execution_count": 2,
   "id": "805d16c8-4978-4932-b1ff-df8574522074",
   "metadata": {},
   "outputs": [
    {
     "ename": "ModuleNotFoundError",
     "evalue": "No module named 'scipy'",
     "output_type": "error",
     "traceback": [
      "\u001b[0;31m---------------------------------------------------------------------------\u001b[0m",
      "\u001b[0;31mModuleNotFoundError\u001b[0m                       Traceback (most recent call last)",
      "Cell \u001b[0;32mIn[2], line 3\u001b[0m\n\u001b[1;32m      1\u001b[0m \u001b[38;5;28;01mimport\u001b[39;00m\u001b[38;5;250m \u001b[39m\u001b[38;5;21;01mnumpy\u001b[39;00m\u001b[38;5;250m \u001b[39m\u001b[38;5;28;01mas\u001b[39;00m\u001b[38;5;250m \u001b[39m\u001b[38;5;21;01mnp\u001b[39;00m\n\u001b[1;32m      2\u001b[0m \u001b[38;5;28;01mimport\u001b[39;00m\u001b[38;5;250m \u001b[39m\u001b[38;5;21;01mmatplotlib\u001b[39;00m\u001b[38;5;21;01m.\u001b[39;00m\u001b[38;5;21;01mpyplot\u001b[39;00m\u001b[38;5;250m \u001b[39m\u001b[38;5;28;01mas\u001b[39;00m\u001b[38;5;250m \u001b[39m\u001b[38;5;21;01mplt\u001b[39;00m\n\u001b[0;32m----> 3\u001b[0m \u001b[38;5;28;01mfrom\u001b[39;00m\u001b[38;5;250m \u001b[39m\u001b[38;5;21;01mscipy\u001b[39;00m\u001b[38;5;21;01m.\u001b[39;00m\u001b[38;5;21;01mstats\u001b[39;00m\u001b[38;5;250m \u001b[39m\u001b[38;5;28;01mimport\u001b[39;00m expon\n\u001b[1;32m      5\u001b[0m \u001b[38;5;66;03m# a. Generate samples\u001b[39;00m\n\u001b[1;32m      6\u001b[0m mean \u001b[38;5;241m=\u001b[39m \u001b[38;5;241m5\u001b[39m\n",
      "\u001b[0;31mModuleNotFoundError\u001b[0m: No module named 'scipy'"
     ]
    }
   ],
   "source": [
    "import numpy as np\n",
    "import matplotlib.pyplot as plt\n",
    "from scipy.stats import expon\n",
    "\n",
    "# a. Generate samples\n",
    "mean = 5\n",
    "scale = mean\n",
    "samples = np.random.exponential(scale=scale, size=2000)\n",
    "\n",
    "# b. Plot histogram and PDF\n",
    "plt.hist(samples, bins=50, density=True, alpha=0.6, color='skyblue', edgecolor='black', label='Histogram')\n",
    "\n",
    "# PDF overlay\n",
    "x = np.linspace(0, np.max(samples), 1000)\n",
    "pdf = expon.pdf(x, scale=scale)\n",
    "plt.plot(x, pdf, 'r', linewidth=2, label='PDF')\n",
    "\n",
    "# Decorate plot\n",
    "plt.title('Exponential Distribution (mean = 5)')\n",
    "plt.xlabel('Value')\n",
    "plt.ylabel('Density')\n",
    "plt.legend()\n",
    "plt.grid(True)\n",
    "plt.show()\n"
   ]
  },
  {
   "cell_type": "code",
   "execution_count": null,
   "id": "0f085950-b757-4c53-8736-706f2861e942",
   "metadata": {},
   "outputs": [
    {
     "name": "stdout",
     "output_type": "stream",
     "text": [
      "Defaulting to user installation because normal site-packages is not writeable\n",
      "Collecting scipy\n",
      "  Downloading scipy-1.13.1-cp39-cp39-macosx_12_0_arm64.whl.metadata (60 kB)\n",
      "Requirement already satisfied: numpy<2.3,>=1.22.4 in /Users/sahil/Library/Python/3.9/lib/python/site-packages (from scipy) (2.0.2)\n",
      "Downloading scipy-1.13.1-cp39-cp39-macosx_12_0_arm64.whl (30.3 MB)\n",
      "\u001b[2K   \u001b[90m━━━━━━━━━━━━━━━━━━━━━━━━━━━━━━━━━━━━━━━━\u001b[0m \u001b[32m30.3/30.3 MB\u001b[0m \u001b[31m34.7 MB/s\u001b[0m eta \u001b[36m0:00:00\u001b[0ma \u001b[36m0:00:01\u001b[0m\n",
      "Installing collected packages: scipy\n"
     ]
    }
   ],
   "source": [
    "pip install scipy"
   ]
  },
  {
   "cell_type": "code",
   "execution_count": null,
   "id": "b53c1ae1-288e-4987-bba1-bf21b3563e4a",
   "metadata": {},
   "outputs": [],
   "source": []
  }
 ],
 "metadata": {
  "kernelspec": {
   "display_name": "Python 3 (ipykernel)",
   "language": "python",
   "name": "python3"
  },
  "language_info": {
   "codemirror_mode": {
    "name": "ipython",
    "version": 3
   },
   "file_extension": ".py",
   "mimetype": "text/x-python",
   "name": "python",
   "nbconvert_exporter": "python",
   "pygments_lexer": "ipython3",
   "version": "3.9.6"
  }
 },
 "nbformat": 4,
 "nbformat_minor": 5
}
